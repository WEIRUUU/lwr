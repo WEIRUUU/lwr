{
  "nbformat": 4,
  "nbformat_minor": 0,
  "metadata": {
    "colab": {
      "name": "Sequential Search",
      "provenance": [],
      "collapsed_sections": [],
      "authorship_tag": "ABX9TyOy6tfXItq7SQHrJRP2ooXe",
      "include_colab_link": true
    },
    "kernelspec": {
      "name": "python3",
      "display_name": "Python 3"
    }
  },
  "cells": [
    {
      "cell_type": "markdown",
      "metadata": {
        "id": "view-in-github",
        "colab_type": "text"
      },
      "source": [
        "<a href=\"https://colab.research.google.com/github/WEIRUUU/lwr/blob/master/Sequential_Search.ipynb\" target=\"_parent\"><img src=\"https://colab.research.google.com/assets/colab-badge.svg\" alt=\"Open In Colab\"/></a>"
      ]
    },
    {
      "cell_type": "code",
      "metadata": {
        "id": "aFJEsHnFxMBv",
        "outputId": "3154c25c-d37d-4755-d945-36c37ffe9b3d",
        "colab": {
          "base_uri": "https://localhost:8080/",
          "height": 34
        }
      },
      "source": [
        "data = [20, 31, 50, 17, 16, 36, 19, 8]\n",
        "def sequential_search(data, key):\n",
        "  for i in data:\n",
        "    if i == key :\n",
        "      print(\"找到了\")\n",
        "      break\n",
        "sequential_search(data, 17)"
      ],
      "execution_count": 3,
      "outputs": [
        {
          "output_type": "stream",
          "text": [
            "找到了\n"
          ],
          "name": "stdout"
        }
      ]
    },
    {
      "cell_type": "code",
      "metadata": {
        "id": "qDGwlTtZ2ApA",
        "outputId": "4b7ef16f-c673-441d-8c67-d8b11ff553ef",
        "colab": {
          "base_uri": "https://localhost:8080/",
          "height": 34
        }
      },
      "source": [
        "data = [1, 2, 3, 4, 5, 6, 7, 8]\n",
        "\n",
        "def sequential_search(data, key):\n",
        "    tmp = [0] * (len(data) + 1)    #設一個空陣列，長度為data長度+1\n",
        "    for i in range(1, len(data)):  #將data的值給到tmp(臨時的變量)\n",
        "        tmp[i] = data[i - 1]\n",
        "    tmp[0] = key             #設定key值      \n",
        "    i = len(data)             #設定索引並開始比較\n",
        "    while tmp[i] != tmp[0]:\n",
        "        i -= 1\n",
        "    return i - 1            #回傳索引       \n",
        "\n",
        "index = sequential_search(data, 5) \n",
        "if index >= 0:\n",
        "    print(\"you can find the index: \" + str(index))\n",
        "else:\n",
        "    print(\"you can't find the index\")"
      ],
      "execution_count": 10,
      "outputs": [
        {
          "output_type": "stream",
          "text": [
            "you can find the index: 4\n"
          ],
          "name": "stdout"
        }
      ]
    }
  ]
}