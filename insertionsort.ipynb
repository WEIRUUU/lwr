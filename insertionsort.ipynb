{
  "nbformat": 4,
  "nbformat_minor": 0,
  "metadata": {
    "colab": {
      "name": "insertionsort.ipynb",
      "provenance": [],
      "collapsed_sections": [],
      "include_colab_link": true
    },
    "kernelspec": {
      "name": "python3",
      "display_name": "Python 3"
    }
  },
  "cells": [
    {
      "cell_type": "markdown",
      "metadata": {
        "id": "view-in-github",
        "colab_type": "text"
      },
      "source": [
        "<a href=\"https://colab.research.google.com/github/WEIRUUU/lwr/blob/master/insertionsort.ipynb\" target=\"_parent\"><img src=\"https://colab.research.google.com/assets/colab-badge.svg\" alt=\"Open In Colab\"/></a>"
      ]
    },
    {
      "cell_type": "markdown",
      "metadata": {
        "id": "j95w6SLwOC0z"
      },
      "source": [
        "Insertion sort (插入排序)"
      ]
    },
    {
      "cell_type": "code",
      "metadata": {
        "id": "BxBaYEwzNj_v",
        "outputId": "2a06243c-5e55-45e1-e82b-b16016fd56c8",
        "colab": {
          "base_uri": "https://localhost:8080/"
        }
      },
      "source": [
        "\n",
        "def Insertion_Sort(datas):\n",
        "    for i in range(1, len(datas)):  # \n",
        "        for j in range(i):\n",
        "            current = datas[i]\n",
        "            if current < datas[j]:\n",
        "                for k in range(i,j):\n",
        "                  print(datas)\n",
        "    return datas\n",
        "\n",
        "\n",
        "def insertionSort(arr):\n",
        "    for i in range(len(arr)):\n",
        "        preIndex = i-1\n",
        "        current = arr[i]\n",
        "        while preIndex >= 0 and arr[preIndex] > current:\n",
        "            arr[preIndex+1] = arr[preIndex]\n",
        "            preIndex-=1\n",
        "        arr[preIndex+1] = current\n",
        "        print(arr)\n",
        "    return arr\n",
        "\n",
        "if __name__ == '__main__':\n",
        "    import random\n",
        "    a = list(range(16))\n",
        "    random.shuffle(a)\n",
        "    b = a.copy()\n",
        "\n",
        "    arr = insertionSort(a)\n",
        "    print('---'*16)\n",
        "    Insertion_Sort(b)"
      ],
      "execution_count": 1,
      "outputs": [
        {
          "output_type": "stream",
          "text": [
            "[4, 8, 10, 3, 7, 6, 1, 12, 13, 2, 9, 0, 5, 14, 11, 15]\n",
            "[4, 8, 10, 3, 7, 6, 1, 12, 13, 2, 9, 0, 5, 14, 11, 15]\n",
            "[4, 8, 10, 3, 7, 6, 1, 12, 13, 2, 9, 0, 5, 14, 11, 15]\n",
            "[3, 4, 8, 10, 7, 6, 1, 12, 13, 2, 9, 0, 5, 14, 11, 15]\n",
            "[3, 4, 7, 8, 10, 6, 1, 12, 13, 2, 9, 0, 5, 14, 11, 15]\n",
            "[3, 4, 6, 7, 8, 10, 1, 12, 13, 2, 9, 0, 5, 14, 11, 15]\n",
            "[1, 3, 4, 6, 7, 8, 10, 12, 13, 2, 9, 0, 5, 14, 11, 15]\n",
            "[1, 3, 4, 6, 7, 8, 10, 12, 13, 2, 9, 0, 5, 14, 11, 15]\n",
            "[1, 3, 4, 6, 7, 8, 10, 12, 13, 2, 9, 0, 5, 14, 11, 15]\n",
            "[1, 2, 3, 4, 6, 7, 8, 10, 12, 13, 9, 0, 5, 14, 11, 15]\n",
            "[1, 2, 3, 4, 6, 7, 8, 9, 10, 12, 13, 0, 5, 14, 11, 15]\n",
            "[0, 1, 2, 3, 4, 6, 7, 8, 9, 10, 12, 13, 5, 14, 11, 15]\n",
            "[0, 1, 2, 3, 4, 5, 6, 7, 8, 9, 10, 12, 13, 14, 11, 15]\n",
            "[0, 1, 2, 3, 4, 5, 6, 7, 8, 9, 10, 12, 13, 14, 11, 15]\n",
            "[0, 1, 2, 3, 4, 5, 6, 7, 8, 9, 10, 11, 12, 13, 14, 15]\n",
            "[0, 1, 2, 3, 4, 5, 6, 7, 8, 9, 10, 11, 12, 13, 14, 15]\n",
            "------------------------------------------------\n"
          ],
          "name": "stdout"
        }
      ]
    },
    {
      "cell_type": "markdown",
      "metadata": {
        "id": "WtGTGPHVHc5T"
      },
      "source": [
        "執行次數 n^2\n"
      ]
    }
  ]
}