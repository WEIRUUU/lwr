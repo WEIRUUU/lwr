{
  "nbformat": 4,
  "nbformat_minor": 0,
  "metadata": {
    "colab": {
      "name": "DP1209.ipynb",
      "provenance": [],
      "collapsed_sections": [],
      "authorship_tag": "ABX9TyMZq30zK4/jrbMoDbQ7sHzG",
      "include_colab_link": true
    },
    "kernelspec": {
      "name": "python3",
      "display_name": "Python 3"
    }
  },
  "cells": [
    {
      "cell_type": "markdown",
      "metadata": {
        "id": "view-in-github",
        "colab_type": "text"
      },
      "source": [
        "<a href=\"https://colab.research.google.com/github/WEIRUUU/lwr/blob/master/DP1209.ipynb\" target=\"_parent\"><img src=\"https://colab.research.google.com/assets/colab-badge.svg\" alt=\"Open In Colab\"/></a>"
      ]
    },
    {
      "cell_type": "code",
      "metadata": {
        "colab": {
          "base_uri": "https://localhost:8080/"
        },
        "id": "SY1EJYNh1KsV",
        "outputId": "30f4aa27-3956-4210-e756-ea9297920d21"
      },
      "source": [
        "def CutRod(p, n):  # 函式返回：切割長度為 n 的鋼條所得的最大收益\n",
        "    if n == 0:\n",
        "        return 0\n",
        "    q = -1\n",
        "    for i in range(1, n+1):\n",
        "        q = max(q, p[i] + CutRod(p, n-i))\n",
        "        '''\n",
        "        tmp = p[i] + CutRod(p, n-i)\n",
        "        if q < tmp:\n",
        "            q = tmp\n",
        "        '''\n",
        "    return q\n",
        "n = input()\n",
        "n = int(n)\n",
        "p=[0,1,5,8,9,10,17,17,20,24,30]   # 價格表，下標為對應的鋼條長度，如當鋼條長度為0時，p=0,即p[0]=0，p[2]=5\n",
        "print(\"最大收益為：\",CutRod(p,n))  #  最大收益為： 10"
      ],
      "execution_count": 5,
      "outputs": [
        {
          "output_type": "stream",
          "text": [
            "9\n",
            "最大收益為： 25\n"
          ],
          "name": "stdout"
        }
      ]
    }
  ]
}