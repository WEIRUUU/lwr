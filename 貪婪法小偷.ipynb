{
  "nbformat": 4,
  "nbformat_minor": 0,
  "metadata": {
    "colab": {
      "name": "貪婪法小偷.ipynb",
      "provenance": [],
      "authorship_tag": "ABX9TyPHNOGLvIASp3+nzhho4ouC",
      "include_colab_link": true
    },
    "kernelspec": {
      "name": "python3",
      "display_name": "Python 3"
    }
  },
  "cells": [
    {
      "cell_type": "markdown",
      "metadata": {
        "id": "view-in-github",
        "colab_type": "text"
      },
      "source": [
        "<a href=\"https://colab.research.google.com/github/WEIRUUU/lwr/blob/master/%E8%B2%AA%E5%A9%AA%E6%B3%95%E5%B0%8F%E5%81%B7.ipynb\" target=\"_parent\"><img src=\"https://colab.research.google.com/assets/colab-badge.svg\" alt=\"Open In Colab\"/></a>"
      ]
    },
    {
      "cell_type": "code",
      "metadata": {
        "colab": {
          "base_uri": "https://localhost:8080/",
          "height": 133
        },
        "id": "GvhRGFx-xePm",
        "outputId": "1463e433-0d8b-47b4-adcb-82efcc29f425"
      },
      "source": [
        "list = [[60000,4],[35000,1],[20000,2],[17000,5],[9000,3]]\r\n",
        "def stole(a,b):\r\n",
        "m = [0 for _ in range(len(a))]\r\n",
        "total = 0\r\n",
        "for i in range(len(a)):\r\n",
        "if a[i][1] <= b:\r\n",
        "b = b - a[i][1]\r\n",
        "m[i] = 1\r\n",
        "total = total + a[i][0]\r\n",
        "print(m,\"剩餘載量:\",b,\"kg\")\r\n",
        "print(\"總價值:\",total)\r\n",
        "\r\n",
        "print(stole(list,10))"
      ],
      "execution_count": 1,
      "outputs": [
        {
          "output_type": "error",
          "ename": "IndentationError",
          "evalue": "ignored",
          "traceback": [
            "\u001b[0;36m  File \u001b[0;32m\"<ipython-input-1-704cb754d14b>\"\u001b[0;36m, line \u001b[0;32m3\u001b[0m\n\u001b[0;31m    m = [0 for _ in range(len(a))]\u001b[0m\n\u001b[0m    ^\u001b[0m\n\u001b[0;31mIndentationError\u001b[0m\u001b[0;31m:\u001b[0m expected an indented block\n"
          ]
        }
      ]
    }
  ]
}