{
  "nbformat": 4,
  "nbformat_minor": 0,
  "metadata": {
    "colab": {
      "name": "Hashingsearch.ipynb",
      "provenance": [],
      "collapsed_sections": [],
      "authorship_tag": "ABX9TyMW0QUyJGGoPZkNZlW0P5XX",
      "include_colab_link": true
    },
    "kernelspec": {
      "name": "python3",
      "display_name": "Python 3"
    }
  },
  "cells": [
    {
      "cell_type": "markdown",
      "metadata": {
        "id": "view-in-github",
        "colab_type": "text"
      },
      "source": [
        "<a href=\"https://colab.research.google.com/github/WEIRUUU/lwr/blob/master/Hashingsearch.ipynb\" target=\"_parent\"><img src=\"https://colab.research.google.com/assets/colab-badge.svg\" alt=\"Open In Colab\"/></a>"
      ]
    },
    {
      "cell_type": "code",
      "metadata": {
        "id": "dXLbz0WUMJ7R",
        "outputId": "36cb5214-a95e-46e4-bd62-4dc5303dd421",
        "colab": {
          "base_uri": "https://localhost:8080/",
          "height": 221
        }
      },
      "source": [
        "import random\n",
        "INDEXBOX=10          #雜湊表最大元素\n",
        "MAXNUM=7           #最大資料個數\n",
        "\n",
        "def print_data(data,max_number):    #列印陣列副程式\n",
        "  print(\"\\t\",end=\"\")\n",
        "  for i in range(max_number):\n",
        "    print(\"[%2d]\"%data[i],end=\"\")\n",
        "  print()\n",
        "\n",
        "def create_table(num,index):  \n",
        "  tmp=num%INDEXBOX\n",
        "  while True:\n",
        "    if index[tmp]==-1:\n",
        "      index[tmp]=num\n",
        "      break\n",
        "    else:\n",
        "      tmp=(tmp+1)%INDEXBOX\n",
        "#Main\n",
        "index=[None]*INDEXBOX\n",
        "data=[None]*MAXNUM\n",
        "\n",
        "print(\"原始陣列值:\")         #起始資料值\n",
        "for i in range(MAXNUM):\n",
        "  data[i]=random.randint(1,20)\n",
        "for i in range(INDEXBOX):     #清除雜湊表\n",
        "  index[i]=-1\n",
        "print_data(data,MAXNUM)        #列印起始資料\n",
        "\n",
        "print(\"雜湊表內容:\")\n",
        "for i in range(MAXNUM):      #建立雜湊表\n",
        "  create_table(data[i],index)\n",
        "  print(\"%2d=>\"%data[i],end=\"\")    #列印單一元素的雜湊表位置\n",
        "  print_data(index,INDEXBOX)\n",
        "\n",
        "print(\"完成雜湊表:\")\n",
        "print_data(index,INDEXBOX)   #列印最後完成結果"
      ],
      "execution_count": 1,
      "outputs": [
        {
          "output_type": "stream",
          "text": [
            "原始陣列值:\n",
            "\t[ 5][ 3][ 2][ 2][ 7][15][ 2]\n",
            "雜湊表內容:\n",
            " 5=>\t[-1][-1][-1][-1][-1][ 5][-1][-1][-1][-1]\n",
            " 3=>\t[-1][-1][-1][ 3][-1][ 5][-1][-1][-1][-1]\n",
            " 2=>\t[-1][-1][ 2][ 3][-1][ 5][-1][-1][-1][-1]\n",
            " 2=>\t[-1][-1][ 2][ 3][ 2][ 5][-1][-1][-1][-1]\n",
            " 7=>\t[-1][-1][ 2][ 3][ 2][ 5][-1][ 7][-1][-1]\n",
            "15=>\t[-1][-1][ 2][ 3][ 2][ 5][15][ 7][-1][-1]\n",
            " 2=>\t[-1][-1][ 2][ 3][ 2][ 5][15][ 7][ 2][-1]\n",
            "完成雜湊表:\n",
            "\t[-1][-1][ 2][ 3][ 2][ 5][15][ 7][ 2][-1]\n"
          ],
          "name": "stdout"
        }
      ]
    }
  ]
}