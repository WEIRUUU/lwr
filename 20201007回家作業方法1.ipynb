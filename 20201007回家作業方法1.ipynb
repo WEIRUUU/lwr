{
  "nbformat": 4,
  "nbformat_minor": 0,
  "metadata": {
    "colab": {
      "name": "20201007回家作業方法1",
      "provenance": [],
      "collapsed_sections": [],
      "authorship_tag": "ABX9TyMDtGgY6hitAryhmkZ9/Pia",
      "include_colab_link": true
    },
    "kernelspec": {
      "name": "python3",
      "display_name": "Python 3"
    }
  },
  "cells": [
    {
      "cell_type": "markdown",
      "metadata": {
        "id": "view-in-github",
        "colab_type": "text"
      },
      "source": [
        "<a href=\"https://colab.research.google.com/github/WEIRUUU/lwr/blob/master/20201007%E5%9B%9E%E5%AE%B6%E4%BD%9C%E6%A5%AD%E6%96%B9%E6%B3%951.ipynb\" target=\"_parent\"><img src=\"https://colab.research.google.com/assets/colab-badge.svg\" alt=\"Open In Colab\"/></a>"
      ]
    },
    {
      "cell_type": "code",
      "metadata": {
        "id": "NZqPZL-AN7TJ"
      },
      "source": [
        "global a,b\n",
        "a = input()\n",
        "a = int(a)\n",
        "b = a%4\n",
        "print(\"輸入的年份:\",a)\n",
        "if b == 0:\n",
        "  c = a%100\n",
        "  if c == 0:\n",
        "    d = a%400\n",
        "    print(\"該年為閏年\") \n",
        "  else:\n",
        "    print(\"該年不為閏年\")\n",
        "else:\n",
        "  print(\"該年不為閏年\")"
      ],
      "execution_count": null,
      "outputs": []
    }
  ]
}