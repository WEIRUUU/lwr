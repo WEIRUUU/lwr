{
  "nbformat": 4,
  "nbformat_minor": 0,
  "metadata": {
    "colab": {
      "name": "Binary Search",
      "provenance": [],
      "authorship_tag": "ABX9TyMTlqRkxVo49dPHnaBGCfvP",
      "include_colab_link": true
    },
    "kernelspec": {
      "name": "python3",
      "display_name": "Python 3"
    }
  },
  "cells": [
    {
      "cell_type": "markdown",
      "metadata": {
        "id": "view-in-github",
        "colab_type": "text"
      },
      "source": [
        "<a href=\"https://colab.research.google.com/github/WEIRUUU/lwr/blob/master/Binary_Search.ipynb\" target=\"_parent\"><img src=\"https://colab.research.google.com/assets/colab-badge.svg\" alt=\"Open In Colab\"/></a>"
      ]
    },
    {
      "cell_type": "code",
      "metadata": {
        "id": "SfT4Mcmu9pgS",
        "outputId": "1f5e82b1-777e-4ef3-b5a3-af00371dd194",
        "colab": {
          "base_uri": "https://localhost:8080/",
          "height": 34
        }
      },
      "source": [
        "def binarySearch (aff, l, r, x):\n",
        "  if r >= 1:\n",
        "    mid = l + (r - 1) // 2\n",
        "    if arr[mid] == x:\n",
        "      return mid\n",
        "    \n",
        "    elif arr[mid] > x:\n",
        "      return binarySearch(arr, l, mid-1, x)\n",
        "    else:\n",
        "      return binarySearch(arr, mid + 1, r, x)\n",
        "  else:\n",
        "    return -1\n",
        "arr = [ 5, 8, 9, 15, 30 ]\n",
        "x = 8\n",
        "\n",
        "# Function call\n",
        "result = binarySearch(arr, 0, len(arr)-1, x)\n",
        "\n",
        "if result != -1:\n",
        "  print (\"元素在所引 % d\" % result)\n",
        "else:\n",
        "  print (\"陣列中找不到該元素\")\n",
        "\n"
      ],
      "execution_count": 17,
      "outputs": [
        {
          "output_type": "stream",
          "text": [
            "元素在所引  1\n"
          ],
          "name": "stdout"
        }
      ]
    },
    {
      "cell_type": "code",
      "metadata": {
        "id": "p7yTIscPAFSY",
        "outputId": "4ebb824e-9ce5-4924-c7b9-e5b8502fcd89",
        "colab": {
          "base_uri": "https://localhost:8080/",
          "height": 68
        }
      },
      "source": [
        "def binarySearch (aff, l, r, x):\n",
        "  if r >= l:\n",
        "    mid = (l + r) // 2\n",
        "    if arr[mid] == x:\n",
        "      return mid\n",
        "    \n",
        "    elif arr[mid] > x:\n",
        "      return binarySearch(arr, l, mid-1, x)\n",
        "    else:\n",
        "      return binarySearch(arr, mid + 1, r, x)\n",
        "  else:\n",
        "    return -1\n",
        "\n",
        "number = input('請輸入五個數字：')\n",
        "number_list = list(map(int,list(number)))\n",
        "number_list.sort()\n",
        "print('排序後得結果為：%s' % number_list)\n",
        "\n",
        "arr =  number_list\n",
        "x = 6\n",
        "\n",
        "# Function call\n",
        "result = binarySearch(arr, 0, len(arr)-1, x)\n",
        "\n",
        "if result != -1:\n",
        "  print (\"元素在所引 % d\" % result)\n",
        "else:\n",
        "  print (\"陣列中找不到該元素\")"
      ],
      "execution_count": 3,
      "outputs": [
        {
          "output_type": "stream",
          "text": [
            "請輸入五個數字：26384\n",
            "排序後得結果為：[2, 3, 4, 6, 8]\n",
            "元素在所引  3\n"
          ],
          "name": "stdout"
        }
      ]
    }
  ]
}