{
  "nbformat": 4,
  "nbformat_minor": 0,
  "metadata": {
    "colab": {
      "name": "Binary Search",
      "provenance": [],
      "authorship_tag": "ABX9TyMHJ6k+giK+QKeIKi68+Q02",
      "include_colab_link": true
    },
    "kernelspec": {
      "name": "python3",
      "display_name": "Python 3"
    }
  },
  "cells": [
    {
      "cell_type": "markdown",
      "metadata": {
        "id": "view-in-github",
        "colab_type": "text"
      },
      "source": [
        "<a href=\"https://colab.research.google.com/github/WEIRUUU/lwr/blob/master/Binary_Search.ipynb\" target=\"_parent\"><img src=\"https://colab.research.google.com/assets/colab-badge.svg\" alt=\"Open In Colab\"/></a>"
      ]
    },
    {
      "cell_type": "code",
      "metadata": {
        "id": "SfT4Mcmu9pgS",
        "outputId": "994b2235-258e-4b55-acf3-d983167e86fc",
        "colab": {
          "base_uri": "https://localhost:8080/",
          "height": 34
        }
      },
      "source": [
        "def binarySearch (aff, l, r, x):\n",
        "  if r >= 1:\n",
        "    mid = l + (r - 1) // 2\n",
        "    if arr[mid] == x:\n",
        "      return mid\n",
        "    \n",
        "    elif arr[mid] > x:\n",
        "      return binarySearch(arr, l, mid-1, x)\n",
        "    else:\n",
        "      return binarySearch(arr, mid + 1, r, x)\n",
        "  else:\n",
        "    return -1\n",
        "arr = [ 5, 8, 9, 15, 30 ]\n",
        "x = 9\n",
        "\n",
        "# Function call\n",
        "result = binarySearch(arr, 0, len(arr)-1, x)\n",
        "\n",
        "if result != -1:\n",
        "  print (\"元素在所引 % d\" % result)\n",
        "else:\n",
        "  print (\"陣列中找不到該元素\")\n"
      ],
      "execution_count": 13,
      "outputs": [
        {
          "output_type": "stream",
          "text": [
            "元素在所引  2\n"
          ],
          "name": "stdout"
        }
      ]
    },
    {
      "cell_type": "code",
      "metadata": {
        "id": "p7yTIscPAFSY",
        "outputId": "bc69aa9d-01ea-4db7-8758-927745081c76",
        "colab": {
          "base_uri": "https://localhost:8080/",
          "height": 68
        }
      },
      "source": [
        "def binarySearch (arr, l, r, x):\n",
        "  if r >= 1:\n",
        "    mid = l + (r - 1) // 2\n",
        "    if arr[mid] == x:\n",
        "      return mid\n",
        "    \n",
        "    elif arr[mid] > x:\n",
        "      return binarySearch(arr, l, mid-1, x)\n",
        "    else:\n",
        "      return binarySearch(arr, mid + 1, r, x)\n",
        "  else:\n",
        "    return -1\n",
        "\n",
        "number = input('請輸入五個數字：')\n",
        "number_list = list(map(int,list(number)))\n",
        "number_list.sort()\n",
        "print('排序後得結果為：%s' % number_list)\n",
        "\n",
        "arr = [ number_list ]\n",
        "x = 5\n",
        "\n",
        "\n",
        "# Function call\n",
        "result = binarySearch(arr, 0, len(arr)-1, x)\n",
        "\n",
        "if result != -1:\n",
        "  print (\"元素在所引 % d\" % result)\n",
        "else:\n",
        "  print (\"陣列中找不到該元素\")\n"
      ],
      "execution_count": 16,
      "outputs": [
        {
          "output_type": "stream",
          "text": [
            "請輸入五個數字：14765\n",
            "排序後得結果為：[1, 4, 5, 6, 7]\n",
            "陣列中找不到該元素\n"
          ],
          "name": "stdout"
        }
      ]
    }
  ]
}