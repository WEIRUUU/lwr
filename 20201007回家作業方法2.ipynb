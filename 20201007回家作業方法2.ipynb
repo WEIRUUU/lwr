{
  "nbformat": 4,
  "nbformat_minor": 0,
  "metadata": {
    "colab": {
      "name": "20201007回家作業方法2",
      "provenance": [],
      "collapsed_sections": [],
      "authorship_tag": "ABX9TyPv5wX92IvWZ7ea9bDwAKk+",
      "include_colab_link": true
    },
    "kernelspec": {
      "name": "python3",
      "display_name": "Python 3"
    }
  },
  "cells": [
    {
      "cell_type": "markdown",
      "metadata": {
        "id": "view-in-github",
        "colab_type": "text"
      },
      "source": [
        "<a href=\"https://colab.research.google.com/github/WEIRUUU/lwr/blob/master/20201007%E5%9B%9E%E5%AE%B6%E4%BD%9C%E6%A5%AD%E6%96%B9%E6%B3%952.ipynb\" target=\"_parent\"><img src=\"https://colab.research.google.com/assets/colab-badge.svg\" alt=\"Open In Colab\"/></a>"
      ]
    },
    {
      "cell_type": "code",
      "metadata": {
        "id": "BPMnYPkjMe-U",
        "outputId": "84bf1a73-3d23-4583-a3dc-9d37c6632897",
        "colab": {
          "base_uri": "https://localhost:8080/",
          "height": 51
        }
      },
      "source": [
        "year = list()\n",
        "for i in range(2000,2041):\n",
        "    a = i%4\n",
        "    if a == 0:\n",
        "        a = i%100\n",
        "        if a == 0:\n",
        "            a = i%400\n",
        "            if a == 0:\n",
        "                year.append(int(i))\n",
        "b = input(\"輸入2000到2040其中一年:\")\n",
        "b = int(b)\n",
        "if b in year:\n",
        "    print(\"1\")\n",
        "if b not in year:\n",
        "    print(\"0\")"
      ],
      "execution_count": 2,
      "outputs": [
        {
          "output_type": "stream",
          "text": [
            "輸入2000到2040其中一年:2001\n",
            "0\n"
          ],
          "name": "stdout"
        }
      ]
    }
  ]
}