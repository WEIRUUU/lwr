{
  "nbformat": 4,
  "nbformat_minor": 0,
  "metadata": {
    "colab": {
      "name": "終極密碼",
      "provenance": [],
      "collapsed_sections": [],
      "authorship_tag": "ABX9TyNWDfSDZ0p7a4LUJOhLcv2V",
      "include_colab_link": true
    },
    "kernelspec": {
      "name": "python3",
      "display_name": "Python 3"
    }
  },
  "cells": [
    {
      "cell_type": "markdown",
      "metadata": {
        "id": "view-in-github",
        "colab_type": "text"
      },
      "source": [
        "<a href=\"https://colab.research.google.com/github/WEIRUUU/lwr/blob/master/%E7%B5%82%E6%A5%B5%E5%AF%86%E7%A2%BC.ipynb\" target=\"_parent\"><img src=\"https://colab.research.google.com/assets/colab-badge.svg\" alt=\"Open In Colab\"/></a>"
      ]
    },
    {
      "cell_type": "code",
      "metadata": {
        "id": "k6TVN7VbORUX"
      },
      "source": [
        " import random\n",
        "i = random.randint(1,101)\n",
        "a = 100\n",
        "b = 1\n",
        "\n",
        "while True:\n",
        "       \n",
        "        x = input(\"\")\n",
        "        x = int(x)\n",
        "        if x==i:\n",
        "            print(\"恭喜答對了～～～\")\n",
        "            break\n",
        "        if x<i:\n",
        "            b = x\n",
        "            print(\"範圍縮小到\",b,\"到\",a)\n",
        "        if x>i:\n",
        "            a = x\n",
        "            print(\"範圍縮小到\",b,\"到\",a)"
      ],
      "execution_count": null,
      "outputs": []
    }
  ]
}