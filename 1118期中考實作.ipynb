{
  "nbformat": 4,
  "nbformat_minor": 0,
  "metadata": {
    "colab": {
      "name": "1118期中考實作",
      "provenance": [],
      "collapsed_sections": [],
      "authorship_tag": "ABX9TyMpn0nT6P9o0QtkRpqNwbl3",
      "include_colab_link": true
    },
    "kernelspec": {
      "name": "python3",
      "display_name": "Python 3"
    }
  },
  "cells": [
    {
      "cell_type": "markdown",
      "metadata": {
        "id": "view-in-github",
        "colab_type": "text"
      },
      "source": [
        "<a href=\"https://colab.research.google.com/github/WEIRUUU/lwr/blob/master/1118%E6%9C%9F%E4%B8%AD%E8%80%83%E5%AF%A6%E4%BD%9C.ipynb\" target=\"_parent\"><img src=\"https://colab.research.google.com/assets/colab-badge.svg\" alt=\"Open In Colab\"/></a>"
      ]
    },
    {
      "cell_type": "markdown",
      "metadata": {
        "id": "I6Xdhg9GoOvD"
      },
      "source": [
        "insertion 插入 （小到大）"
      ]
    },
    {
      "cell_type": "code",
      "metadata": {
        "colab": {
          "base_uri": "https://localhost:8080/"
        },
        "id": "xd9UADfeoAOr",
        "outputId": "28755cc1-584c-4c37-8c95-9c5da84cdd20"
      },
      "source": [
        "import random                                                            # 匯入 random 套件，用以生成亂數\n",
        "\n",
        "def showdata(data):\n",
        "    for i in range(len(data)):\n",
        "        print('%3d' %data[i], end = '')\n",
        "    print()\n",
        "\n",
        "def insert_sort(data):             \n",
        "    n = len(data)                                                          #取的資料長度\n",
        "    if n == 1:                                                                #如果只有一個數值，直接回傳 data\n",
        "        return data\n",
        "    for i in range(1,n):                                                   #對於所有資料遍巡一次\n",
        "        for j in range(i,0,-1):                                            #從第 i 個位置往回判斷大小\n",
        "            \n",
        "            if data[j]<data[j-1]: \n",
        "                data[j],data[j-1] = data[j-1],data[j]                 #如果相鄰兩個位置，後面的數值小於前面的，就互換數值\n",
        "            \n",
        "            else:\n",
        "                break\n",
        "        print(' 第 %d 次排序：' %i,  rnds)                      #印出互換後的結果\n",
        "    return data\n",
        "\n",
        "\n",
        "rnds = [random.randint(0, 100) for _ in range(8)]              #在 0 ~ 101 中隨機生成 8 個數字\n",
        "\n",
        "print('原始數列 ：', rnds)\n",
        "\n",
        "\n",
        "insert_sort(rnds)\n",
        "print()"
      ],
      "execution_count": 79,
      "outputs": [
        {
          "output_type": "stream",
          "text": [
            "原始數列 ： [45, 8, 39, 23, 48, 84, 46, 75]\n",
            " 第 1 次排序： [8, 45, 39, 23, 48, 84, 46, 75]\n",
            " 第 2 次排序： [8, 39, 45, 23, 48, 84, 46, 75]\n",
            " 第 3 次排序： [8, 23, 39, 45, 48, 84, 46, 75]\n",
            " 第 4 次排序： [8, 23, 39, 45, 48, 84, 46, 75]\n",
            " 第 5 次排序： [8, 23, 39, 45, 48, 84, 46, 75]\n",
            " 第 6 次排序： [8, 23, 39, 45, 46, 48, 84, 75]\n",
            " 第 7 次排序： [8, 23, 39, 45, 46, 48, 75, 84]\n",
            "\n"
          ],
          "name": "stdout"
        }
      ]
    },
    {
      "cell_type": "markdown",
      "metadata": {
        "id": "ga167V9_o_0e"
      },
      "source": [
        "selection 選擇 （大到小）"
      ]
    },
    {
      "cell_type": "code",
      "metadata": {
        "colab": {
          "base_uri": "https://localhost:8080/"
        },
        "id": "s0LDTpCBo8Wy",
        "outputId": "d92e02cb-5fa5-42f7-d314-2fa94fa3a0d7"
      },
      "source": [
        "  def Selction_Sort(arr):\n",
        "    for i in range(len(arr)-1):                                 #交換n-1次    \n",
        "        min = i                                                     #找最小數\n",
        "        for j in range(i+1, len(arr)):   \n",
        "            if arr[j] > arr[min]:       \n",
        "                min = j             \n",
        "      \n",
        "        arr[i], arr[min] = arr[min], arr[i]                    #交換\n",
        "            \n",
        "        print('第', i+1 , '次選擇排序 ： ' , arr)        \n",
        "    return arr           \n",
        "    \n",
        "    \n",
        "if __name__ == '__main__':\n",
        "    import random\n",
        "    b = []\n",
        "    for i in range(0,8):                                       #生成八個髓機數\n",
        "        a = random.randint(0,100)                        #生成的隨機整數，介於0到100\n",
        "        b += [a]\n",
        "    random.shuffle(b)                                       #將元素打亂\n",
        "    print('原始數列 ： ' , b)\n",
        "    b = Selction_Sort(b)\n",
        "    \n",
        "    \n"
      ],
      "execution_count": 49,
      "outputs": [
        {
          "output_type": "stream",
          "text": [
            "原始數列 ：  [25, 87, 62, 9, 64, 12, 13, 89]\n",
            "第 1 次選擇排序 ：  [89, 87, 62, 9, 64, 12, 13, 25]\n",
            "第 2 次選擇排序 ：  [89, 87, 62, 9, 64, 12, 13, 25]\n",
            "第 3 次選擇排序 ：  [89, 87, 64, 9, 62, 12, 13, 25]\n",
            "第 4 次選擇排序 ：  [89, 87, 64, 62, 9, 12, 13, 25]\n",
            "第 5 次選擇排序 ：  [89, 87, 64, 62, 25, 12, 13, 9]\n",
            "第 6 次選擇排序 ：  [89, 87, 64, 62, 25, 13, 12, 9]\n",
            "第 7 次選擇排序 ：  [89, 87, 64, 62, 25, 13, 12, 9]\n"
          ],
          "name": "stdout"
        }
      ]
    }
  ]
}