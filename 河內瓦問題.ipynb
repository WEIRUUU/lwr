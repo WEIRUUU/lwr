{
  "nbformat": 4,
  "nbformat_minor": 0,
  "metadata": {
    "colab": {
      "name": "河內瓦問題",
      "provenance": [],
      "collapsed_sections": [],
      "authorship_tag": "ABX9TyM8Q/Di+9dQIrihExkQvcVJ",
      "include_colab_link": true
    },
    "kernelspec": {
      "name": "python3",
      "display_name": "Python 3"
    }
  },
  "cells": [
    {
      "cell_type": "markdown",
      "metadata": {
        "id": "view-in-github",
        "colab_type": "text"
      },
      "source": [
        "<a href=\"https://colab.research.google.com/github/WEIRUUU/lwr/blob/master/%E6%B2%B3%E5%85%A7%E7%93%A6%E5%95%8F%E9%A1%8C.ipynb\" target=\"_parent\"><img src=\"https://colab.research.google.com/assets/colab-badge.svg\" alt=\"Open In Colab\"/></a>"
      ]
    },
    {
      "cell_type": "code",
      "metadata": {
        "id": "dWrsmckUPWxg",
        "outputId": "31cbeae7-f5d5-4d1b-e130-fda8bd450c63",
        "colab": {
          "base_uri": "https://localhost:8080/"
        }
      },
      "source": [
        "def hanoi(n, A, B, C):\n",
        "    if n == 1:\n",
        "        print(str(n) + \"號圈：\" + A + \"→\" + C)\n",
        "    else:\n",
        "        hanoi(n-1, A, C, B)\n",
        "        print(str(n) + \"號圈：\" + A + \"→\" + C)\n",
        "        hanoi(n-1, B, A, C)\n",
        "\n",
        "ringNum = int(input(\"請輸入圈圈數：\"))\n",
        "hanoi(ringNum, \"A\", \"B\", \"C\")"
      ],
      "execution_count": 2,
      "outputs": [
        {
          "output_type": "stream",
          "text": [
            "請輸入圈圈數：3\n",
            "1號圈：A→C\n",
            "2號圈：A→B\n",
            "1號圈：C→B\n",
            "3號圈：A→C\n",
            "1號圈：B→A\n",
            "2號圈：B→C\n",
            "1號圈：A→C\n"
          ],
          "name": "stdout"
        }
      ]
    }
  ]
}