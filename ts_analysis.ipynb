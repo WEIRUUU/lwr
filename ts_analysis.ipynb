{
  "nbformat": 4,
  "nbformat_minor": 0,
  "metadata": {
    "colab": {
      "name": "ts_analysis",
      "provenance": [],
      "authorship_tag": "ABX9TyPdthXDRO03opLIdZqQTd11",
      "include_colab_link": true
    },
    "kernelspec": {
      "name": "python3",
      "display_name": "Python 3"
    }
  },
  "cells": [
    {
      "cell_type": "markdown",
      "metadata": {
        "id": "view-in-github",
        "colab_type": "text"
      },
      "source": [
        "<a href=\"https://colab.research.google.com/github/WEIRUUU/lwr/blob/master/ts_analysis.ipynb\" target=\"_parent\"><img src=\"https://colab.research.google.com/assets/colab-badge.svg\" alt=\"Open In Colab\"/></a>"
      ]
    },
    {
      "cell_type": "code",
      "metadata": {
        "id": "1Vs2tIYxoK4T",
        "outputId": "4f8a5627-73cf-43d8-8b56-a4b507300b6a",
        "colab": {
          "base_uri": "https://localhost:8080/",
          "height": 68
        }
      },
      "source": [
        "global a,b\n",
        "a = input()\n",
        "a = int(a)\n",
        "b = a%4\n",
        "print(\"輸入的年份:\",a)\n",
        "if b == 0:\n",
        "  c = a%100\n",
        "  if c == 0:\n",
        "    d = a%400\n",
        "    print(\"該年為閏年\") \n",
        "  else:\n",
        "    print(\"該年不為閏年\")\n",
        "else:\n",
        "  print(\"該年不為閏年\")"
      ],
      "execution_count": 1,
      "outputs": [
        {
          "output_type": "stream",
          "text": [
            "2000\n",
            "輸入的年份: 2000\n",
            "該年為閏年\n"
          ],
          "name": "stdout"
        }
      ]
    },
    {
      "cell_type": "code",
      "metadata": {
        "id": "vgOcSSuloerx",
        "outputId": "13e32315-f177-4876-a5bf-f8bebfe83ace",
        "colab": {
          "base_uri": "https://localhost:8080/",
          "height": 51
        }
      },
      "source": [
        "year = list()\n",
        "for i in range(2000,2041):\n",
        "    a = i%4\n",
        "    if a == 0:\n",
        "        a = i%100\n",
        "        if a == 0:\n",
        "            a = i%400\n",
        "            if a == 0:\n",
        "                year.append(int(i))\n",
        "b = input(\"輸入2000到2040其中一年:\")\n",
        "b = int(b)\n",
        "if b in year:\n",
        "    print(\"1\")\n",
        "if b not in year:\n",
        "    print(\"0\")"
      ],
      "execution_count": 2,
      "outputs": [
        {
          "output_type": "stream",
          "text": [
            "輸入2000到2040其中一年:2000\n",
            "1\n"
          ],
          "name": "stdout"
        }
      ]
    }
  ]
}