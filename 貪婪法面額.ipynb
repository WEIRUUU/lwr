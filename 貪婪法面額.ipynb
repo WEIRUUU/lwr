{
  "nbformat": 4,
  "nbformat_minor": 0,
  "metadata": {
    "colab": {
      "name": "貪婪法面額.ipynb",
      "provenance": [],
      "authorship_tag": "ABX9TyNe59I5E/x5Ew3ChNbff1tH",
      "include_colab_link": true
    },
    "kernelspec": {
      "name": "python3",
      "display_name": "Python 3"
    }
  },
  "cells": [
    {
      "cell_type": "markdown",
      "metadata": {
        "id": "view-in-github",
        "colab_type": "text"
      },
      "source": [
        "<a href=\"https://colab.research.google.com/github/WEIRUUU/lwr/blob/master/%E8%B2%AA%E5%A9%AA%E6%B3%95%E9%9D%A2%E9%A1%8D.ipynb\" target=\"_parent\"><img src=\"https://colab.research.google.com/assets/colab-badge.svg\" alt=\"Open In Colab\"/></a>"
      ]
    },
    {
      "cell_type": "code",
      "metadata": {
        "colab": {
          "base_uri": "https://localhost:8080/",
          "height": 133
        },
        "id": "SKEaRg0EyCaa",
        "outputId": "d9fade74-bf34-4213-9b39-7d6ba8fbb8c0"
      },
      "source": [
        "#t = 面額\r\n",
        "t = [25,20,5,1]\r\n",
        "\r\n",
        "n = input(\"輸入面額\")\r\n",
        "n = int(n)\r\n",
        "#n = 多少錢\r\n",
        "def change(t,n):\r\n",
        "m = [0 for _ in range(len(t))]\r\n",
        "for i, money in enumerate(t):\r\n",
        "m[i] = n//money\r\n",
        "n = n % money\r\n",
        "print(\"第\",i+1,\"次:\",m)\r\n",
        "if n == 0:\r\n",
        "print(\"已付完\")"
      ],
      "execution_count": 1,
      "outputs": [
        {
          "output_type": "error",
          "ename": "IndentationError",
          "evalue": "ignored",
          "traceback": [
            "\u001b[0;36m  File \u001b[0;32m\"<ipython-input-1-b4a9feb3ee16>\"\u001b[0;36m, line \u001b[0;32m8\u001b[0m\n\u001b[0;31m    m = [0 for _ in range(len(t))]\u001b[0m\n\u001b[0m    ^\u001b[0m\n\u001b[0;31mIndentationError\u001b[0m\u001b[0;31m:\u001b[0m expected an indented block\n"
          ]
        }
      ]
    }
  ]
}