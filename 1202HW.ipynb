{
  "nbformat": 4,
  "nbformat_minor": 0,
  "metadata": {
    "colab": {
      "name": "1202HW.ipynb",
      "provenance": [],
      "collapsed_sections": [],
      "authorship_tag": "ABX9TyMSnhRqdbZBYbNnphWVt59j",
      "include_colab_link": true
    },
    "kernelspec": {
      "name": "python3",
      "display_name": "Python 3"
    }
  },
  "cells": [
    {
      "cell_type": "markdown",
      "metadata": {
        "id": "view-in-github",
        "colab_type": "text"
      },
      "source": [
        "<a href=\"https://colab.research.google.com/github/WEIRUUU/lwr/blob/master/1202HW.ipynb\" target=\"_parent\"><img src=\"https://colab.research.google.com/assets/colab-badge.svg\" alt=\"Open In Colab\"/></a>"
      ]
    },
    {
      "cell_type": "markdown",
      "metadata": {
        "id": "LsPbKxwunGWQ"
      },
      "source": [
        "找錢問題 （貪婪法）"
      ]
    },
    {
      "cell_type": "code",
      "metadata": {
        "colab": {
          "base_uri": "https://localhost:8080/"
        },
        "id": "ecvKT0lKnAKa",
        "outputId": "bdb266ca-7592-42a4-e9fc-86830ee4b41b"
      },
      "source": [
        "t = [25,20,5,1]\n",
        "u=int(input(\"請輸入要找的數目\"))\n",
        "def change(t,n):\n",
        "  m = [0 for _ in range(len(t))]\n",
        "  for i ,money in enumerate(t):\n",
        "    if n>=1:\n",
        "        m[i] = n // money\n",
        "        n = n % money\n",
        "        print(m,n)\n",
        "    else:\n",
        "        return  m,n\n",
        "\n",
        "\n",
        "\n",
        "change(t,u)\n"
      ],
      "execution_count": 1,
      "outputs": [
        {
          "output_type": "stream",
          "text": [
            "請輸入要找的數目30\n",
            "[1, 0, 0, 0] 5\n",
            "[1, 0, 0, 0] 5\n",
            "[1, 0, 1, 0] 0\n"
          ],
          "name": "stdout"
        },
        {
          "output_type": "execute_result",
          "data": {
            "text/plain": [
              "([1, 0, 1, 0], 0)"
            ]
          },
          "metadata": {
            "tags": []
          },
          "execution_count": 1
        }
      ]
    },
    {
      "cell_type": "markdown",
      "metadata": {
        "id": "9lL0T1uwnPRQ"
      },
      "source": [
        "找錢問題 （ＤＰ法）"
      ]
    },
    {
      "cell_type": "code",
      "metadata": {
        "colab": {
          "base_uri": "https://localhost:8080/"
        },
        "id": "HpoiHM4CnTZx",
        "outputId": "3f8128d2-e319-4388-d099-4f643419a167"
      },
      "source": [
        "class Solution(object):\n",
        "   def coinChange(self, coins, amount):\n",
        "      if amount == 0 :\n",
        "         return 0\n",
        "      if min(coins) > amount:\n",
        "         return -1\n",
        "      dp = [-1 for i in range(0, amount + 1)]\n",
        "      for i in coins:\n",
        "         if i > len(dp) - 1:\n",
        "            continue\n",
        "         dp[i] = 1\n",
        "         for j in range(i + 1, amount + 1):\n",
        "            if dp[j - i] == -1:\n",
        "               continue\n",
        "            elif dp[j] == -1:\n",
        "               dp[j] = dp[j - i] + 1\n",
        "            else:\n",
        "               dp[j] = min(dp[j], dp[j - i] + 1)\n",
        "         #print(dp)\n",
        "      return dp[amount]\n",
        "ob1 = Solution()\n",
        "print(ob1.coinChange([1,5,20,25], 11))"
      ],
      "execution_count": 2,
      "outputs": [
        {
          "output_type": "stream",
          "text": [
            "3\n"
          ],
          "name": "stdout"
        }
      ]
    },
    {
      "cell_type": "markdown",
      "metadata": {
        "id": "wparrvxvnZ7W"
      },
      "source": [
        "背包問題 （貪婪法）"
      ]
    },
    {
      "cell_type": "code",
      "metadata": {
        "colab": {
          "base_uri": "https://localhost:8080/"
        },
        "id": "M66iJ_ozndld",
        "outputId": "c1e737e5-a594-4f6c-f2a9-690630d25f98"
      },
      "source": [
        "class goods:\n",
        "  def __init__(self, goods_id, weight=0, value=0):\n",
        "    self.id = goods_id\n",
        "    self.weight = weight\n",
        "    self.value = value\n",
        "\n",
        "def knapsack(capacity=0, goods_set=[]):\n",
        "\n",
        "  goods_set.sort(key=lambda obj: obj.value, reverse=True)\n",
        "  result = []\n",
        "  for a_goods in goods_set:\n",
        "    if capacity < a_goods.weight:\n",
        "      continue\n",
        "    result.append(a_goods)\n",
        "    capacity -= a_goods.weight\n",
        "  if len(result) < len(goods_set) and capacity != 0:\n",
        "    result.append(goods(a_goods.id, capacity,  a_goods.value * capacity / a_goods.weight))\n",
        "  return result\n",
        "some_goods = [goods('PS5', 5, 17000), goods('Ipad pro 12', 1, 35000), goods('Macbook pro 15', 4, 60000), goods('HomePod', 3, 9000), goods('Mac mini', 2, 20000)]\n",
        "\n",
        "res = knapsack(10, some_goods)\n",
        "\n",
        "\n",
        "for obj in res:\n",
        "  print('物品的名稱:' + str(obj.id) + ' ,放入的重量:' + str(obj.weight) + ',總價值:' + str(obj.value), end=',')"
      ],
      "execution_count": 4,
      "outputs": [
        {
          "output_type": "stream",
          "text": [
            "物品的名稱:Macbook pro 15 ,放入的重量:4,總價值:60000,物品的名稱:Ipad pro 12 ,放入的重量:1,總價值:35000,物品的名稱:Mac mini ,放入的重量:2,總價值:20000,物品的名稱:HomePod ,放入的重量:3,總價值:9000,"
          ],
          "name": "stdout"
        }
      ]
    },
    {
      "cell_type": "markdown",
      "metadata": {
        "id": "DUOTJbB_nd5i"
      },
      "source": [
        "背包問題 （ＤＰ法）"
      ]
    },
    {
      "cell_type": "code",
      "metadata": {
        "colab": {
          "base_uri": "https://localhost:8080/"
        },
        "id": "kllhiB_QneKD",
        "outputId": "9b74e39d-e5cc-4366-e435-afbc4565e3ed"
      },
      "source": [
        "# Returns the maximum value that can be put in a knapsack of \n",
        "# capacity W \n",
        "def knapSack(W, wt, val, n): \n",
        "  \n",
        "    # Base Case \n",
        "    if n == 0 or W == 0 : \n",
        "        return 0\n",
        "  \n",
        "    # If weight of the nth item is more than Knapsack of capacity \n",
        "    # W, then this item cannot be included in the optimal solution \n",
        "    if (wt[n-1] > W): \n",
        "        return knapSack(W, wt, val, n-1) \n",
        "  \n",
        "    # return the maximum of two cases: \n",
        "    # (1) nth item included \n",
        "    # (2) not included \n",
        "    else: \n",
        "        return max(val[n-1] + knapSack(W-wt[n-1], wt, val, n-1), \n",
        "                   knapSack(W, wt, val, n-1)) \n",
        "  \n",
        "# end of function knapSack \n",
        "  \n",
        "# To test above function \n",
        "val = [17000,35000,60000,9000,20000] \n",
        "wt = [5,1,4,3,2]\n",
        "W = 10\n",
        "n = len(val)\n",
        "print(knapSack(W, wt, val, n))\n",
        "\n",
        "# This code is contributed by Nikhil Kumar Singh"
      ],
      "execution_count": 5,
      "outputs": [
        {
          "output_type": "stream",
          "text": [
            "124000\n"
          ],
          "name": "stdout"
        }
      ]
    }
  ]
}