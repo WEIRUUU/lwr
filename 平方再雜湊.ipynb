{
  "nbformat": 4,
  "nbformat_minor": 0,
  "metadata": {
    "colab": {
      "name": "平方再雜湊.ipynb",
      "provenance": [],
      "collapsed_sections": [],
      "authorship_tag": "ABX9TyMk4ffR17Y9CcLiwiEf09BP",
      "include_colab_link": true
    },
    "kernelspec": {
      "name": "python3",
      "display_name": "Python 3"
    }
  },
  "cells": [
    {
      "cell_type": "markdown",
      "metadata": {
        "id": "view-in-github",
        "colab_type": "text"
      },
      "source": [
        "<a href=\"https://colab.research.google.com/github/WEIRUUU/lwr/blob/master/%E5%B9%B3%E6%96%B9%E5%86%8D%E9%9B%9C%E6%B9%8A.ipynb\" target=\"_parent\"><img src=\"https://colab.research.google.com/assets/colab-badge.svg\" alt=\"Open In Colab\"/></a>"
      ]
    },
    {
      "cell_type": "code",
      "metadata": {
        "id": "ZyowSftVKGFU",
        "outputId": "225194a7-e061-4297-b143-3b86b643c0cc",
        "colab": {
          "base_uri": "https://localhost:8080/",
          "height": 255
        }
      },
      "source": [
        "import random\n",
        "indexbox=10\n",
        "maxnum=7\n",
        "\n",
        "def print_data(data,max_number):\n",
        "  print(\"\\t\",end=\"\")\n",
        "  for i in range(max_number):\n",
        "    print(\"[%2d}\"%data[i],end=\"\")\n",
        "  print()\n",
        "\n",
        "def create_table(num,index):\n",
        "  tmp=num%indexbox\n",
        "  n=1\n",
        "  while True:\n",
        "\n",
        "    if index[tmp]==-1:\n",
        "      index[tmp]=num\n",
        "      break\n",
        "    else:\n",
        "      print(\"碰撞\")\n",
        "      tmp=num%indexbox\n",
        "      tmp=(tmp+n*2)%indexbox\n",
        "      n+=1\n",
        "\n",
        "index=[None]*indexbox\n",
        "data=[None]*maxnum\n",
        "print(\"原始陣列值:\")\n",
        "for i in range(maxnum):\n",
        "  data[i]=random.randint(1,20)\n",
        "for i in range(indexbox):\n",
        "  index[i]=-1\n",
        "print_data(data,maxnum)\n",
        "\n",
        "print(\"雜湊表內容:\")\n",
        "for i in range(maxnum):\n",
        "  create_table(data[i],index)\n",
        "  print(\" %2d =>\"%data[i],end=\"\")\n",
        "  print_data(index,indexbox)\n",
        "print(\"完整雜湊表:\")\n",
        "print_data(index,indexbox)"
      ],
      "execution_count": 4,
      "outputs": [
        {
          "output_type": "stream",
          "text": [
            "原始陣列值:\n",
            "\t[10}[ 5}[13}[ 5}[18}[ 4}[ 4}\n",
            "雜湊表內容:\n",
            " 10 =>\t[10}[-1}[-1}[-1}[-1}[-1}[-1}[-1}[-1}[-1}\n",
            "  5 =>\t[10}[-1}[-1}[-1}[-1}[ 5}[-1}[-1}[-1}[-1}\n",
            " 13 =>\t[10}[-1}[-1}[13}[-1}[ 5}[-1}[-1}[-1}[-1}\n",
            "碰撞\n",
            "  5 =>\t[10}[-1}[-1}[13}[-1}[ 5}[-1}[ 5}[-1}[-1}\n",
            " 18 =>\t[10}[-1}[-1}[13}[-1}[ 5}[-1}[ 5}[18}[-1}\n",
            "  4 =>\t[10}[-1}[-1}[13}[ 4}[ 5}[-1}[ 5}[18}[-1}\n",
            "碰撞\n",
            "  4 =>\t[10}[-1}[-1}[13}[ 4}[ 5}[ 4}[ 5}[18}[-1}\n",
            "完整雜湊表:\n",
            "\t[10}[-1}[-1}[13}[ 4}[ 5}[ 4}[ 5}[18}[-1}\n"
          ],
          "name": "stdout"
        }
      ]
    },
    {
      "cell_type": "markdown",
      "metadata": {
        "id": "Eg4hMwNyKg0s"
      },
      "source": [
        "平方"
      ]
    },
    {
      "cell_type": "code",
      "metadata": {
        "id": "U_fG1V9CKKUU",
        "outputId": "33a57a02-541a-4009-860a-1e19cac587a4",
        "colab": {
          "base_uri": "https://localhost:8080/",
          "height": 272
        }
      },
      "source": [
        "import random\n",
        "indexbox=10\n",
        "maxnum=7\n",
        "n=1\n",
        "def print_data(data,max_number):\n",
        "  print(\"\\t\",end=\"\")\n",
        "  for i in range(max_number):\n",
        "    print(\"[%2d}\"%data[i],end=\"\")\n",
        "  print()\n",
        "\n",
        "def create_table(num,index):\n",
        "  tmp=num%indexbox \n",
        "  n=1 \n",
        "  while True:\n",
        "    if index[tmp]==-1:\n",
        "      index[tmp]=num\n",
        "      break\n",
        "    else:\n",
        "      print(\"碰撞\")\n",
        "      tmp=(tmp+n*3)%indexbox\n",
        "      n+1\n",
        "\n",
        "index=[None]*indexbox\n",
        "data=[None]*maxnum\n",
        "print(\"原始陣列值:\")\n",
        "for i in range(maxnum):\n",
        "  data[i]=random.randint(1,20)\n",
        "for i in range(indexbox):\n",
        "  index[i]=-1\n",
        "print_data(data,maxnum)\n",
        "\n",
        "print(\"雜湊表內容:\")\n",
        "for i in range(maxnum):\n",
        "  create_table(data[i],index)\n",
        "  print(\" %2d =>\"%data[i],end=\"\")\n",
        "  print_data(index,indexbox)\n",
        "print(\"完整雜湊表:\")\n",
        "print_data(index,indexbox)"
      ],
      "execution_count": 6,
      "outputs": [
        {
          "output_type": "stream",
          "text": [
            "原始陣列值:\n",
            "\t[ 6}[17}[16}[ 1}[ 1}[20}[19}\n",
            "雜湊表內容:\n",
            "  6 =>\t[-1}[-1}[-1}[-1}[-1}[-1}[ 6}[-1}[-1}[-1}\n",
            " 17 =>\t[-1}[-1}[-1}[-1}[-1}[-1}[ 6}[17}[-1}[-1}\n",
            "碰撞\n",
            " 16 =>\t[-1}[-1}[-1}[-1}[-1}[-1}[ 6}[17}[-1}[16}\n",
            "  1 =>\t[-1}[ 1}[-1}[-1}[-1}[-1}[ 6}[17}[-1}[16}\n",
            "碰撞\n",
            "  1 =>\t[-1}[ 1}[-1}[-1}[ 1}[-1}[ 6}[17}[-1}[16}\n",
            " 20 =>\t[20}[ 1}[-1}[-1}[ 1}[-1}[ 6}[17}[-1}[16}\n",
            "碰撞\n",
            " 19 =>\t[20}[ 1}[19}[-1}[ 1}[-1}[ 6}[17}[-1}[16}\n",
            "完整雜湊表:\n",
            "\t[20}[ 1}[19}[-1}[ 1}[-1}[ 6}[17}[-1}[16}\n"
          ],
          "name": "stdout"
        }
      ]
    },
    {
      "cell_type": "markdown",
      "metadata": {
        "id": "raD1FwchKkjB"
      },
      "source": [
        "再雜湊"
      ]
    }
  ]
}